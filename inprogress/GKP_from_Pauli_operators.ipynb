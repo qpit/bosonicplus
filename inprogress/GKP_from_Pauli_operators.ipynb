{
 "cells": [
  {
   "cell_type": "code",
   "execution_count": 1,
   "id": "100ca095-fb66-4978-b20e-70bf8397b234",
   "metadata": {},
   "outputs": [],
   "source": [
    "import numpy as np\n",
    "from matplotlib import pyplot as plt\n",
    "from bosonicplus.plotting import plot_wigner_marginals"
   ]
  },
  {
   "cell_type": "code",
   "execution_count": 2,
   "id": "3d9969cd-228d-4b12-9b25-07ed9579ea5a",
   "metadata": {},
   "outputs": [],
   "source": [
    "hbar = 2"
   ]
  },
  {
   "cell_type": "code",
   "execution_count": 3,
   "id": "6e6b07eb-817f-43d4-a25e-aae11eac073f",
   "metadata": {},
   "outputs": [],
   "source": [
    "def gkp_pauli_operator(k : int, eps : float,cutoff=1e-10):\n",
    "    \"\"\"Generate the coefficients, means and covariance of the GKP Pauli operator given in \n",
    "    the Appendix of https://doi.org/10.1103/PhysRevA.108.052413\n",
    "\n",
    "    m1 and m2 flipped compared to his definition\n",
    "\n",
    "    The sum of Gaussians is divided into a sum of Gaussians in x times a sum of Gaussians in p\n",
    "\n",
    "    Args:\n",
    "        k : which Pauli operator\n",
    "        eps : fock damping strength\n",
    "        cutoff : max coefficient value\n",
    "\n",
    "    Returns:\n",
    "        cx, mux : coefficients and means in x \n",
    "        cp, mup : coefficients and means in p \n",
    "        cov : (shared) covaraince mat\n",
    "        \n",
    "    \"\"\"\n",
    "    cov = hbar/2*np.tanh(eps)*np.eye(2)\n",
    "    m_max = int(np.sqrt(-np.log(cutoff)*4/np.pi/np.tanh(eps)))\n",
    "    \n",
    "    if k == 0:\n",
    "        s1 = 1\n",
    "        s2 = 1\n",
    "        #Range of even integers values, m1, m2 even\n",
    "        if m_max%2 == 1: \n",
    "            m1 = np.arange(-m_max-1,m_max+2,2)\n",
    "            m2 = np.arange(-m_max-1,m_max+2,2)\n",
    "        elif m_max %2 == 0:\n",
    "            m1 = np.arange(-m_max,m_max+2,2)\n",
    "            m2 = np.arange(-m_max,m_max+2,2)\n",
    "\n",
    "    elif k == 1:\n",
    "        s1 = 1\n",
    "        #m1 odd, m2 even\n",
    "        if m_max%2 == 1:\n",
    "            m1 = np.arange(-m_max,m_max+2,2)\n",
    "            m2 = np.arange(-m_max-1,m_max+2,2)\n",
    "        elif m_max %2 == 0:\n",
    "            m1 = np.arange(-m_max-1,m_max+2,2)\n",
    "            m2 = np.arange(-m_max,m_max+2,2)\n",
    "        s2 = (-1)**(m2/2)\n",
    "        \n",
    "    elif k == 2:\n",
    "        #m1 odd, m2 odd\n",
    "        if m_max%2 == 1:\n",
    "            m1 = np.arange(-m_max,m_max+2,2,dtype=complex)\n",
    "            m2 = np.arange(-m_max,m_max+2,2,dtype=complex)\n",
    "        elif m_max%2 == 0:\n",
    "            m1 = np.arange(-m_max-1,m_max+2,2,dtype=complex)\n",
    "            m2 = np.arange(-m_max-1,m_max+2,2,dtype=complex)\n",
    "            \n",
    "        \n",
    "        s1 = (-1)**(m1/2)\n",
    "        s2 = -(-1)**(m2/2)\n",
    "    elif k == 3:\n",
    "        s2 = 1\n",
    "        #m1 even, m2 odd\n",
    "        if m_max%2 == 1:\n",
    "            m1 = np.arange(-m_max-1,m_max+2,2)\n",
    "            m2 = np.arange(-m_max,m_max+2,2,dtype=complex)\n",
    "        elif m_max%2 == 0:\n",
    "            m1 = np.arange(-m_max,m_max+2,2)\n",
    "            m2 = np.arange(-m_max-1,m_max+2,2,dtype=complex)\n",
    "            \n",
    "        s1 = (-1)**(m1/2)\n",
    "            \n",
    "    cx = np.exp(-np.tanh(eps)*np.pi/4*m2**2)*s2\n",
    "    cp = np.exp(-np.tanh(eps)*np.pi/4*m1**2)*s1\n",
    "\n",
    "    mux = 1/np.cosh(eps)*np.sqrt(np.pi/2)*np.sqrt(hbar/2)*m2\n",
    "    mup = 1/np.cosh(eps)*np.sqrt(np.pi/2)*np.sqrt(hbar/2)*m1\n",
    "\n",
    "    return cx, mux, cp, mup, cov\n"
   ]
  },
  {
   "cell_type": "code",
   "execution_count": 4,
   "id": "504e11c3-e119-402f-9e83-b0de48bf3ab3",
   "metadata": {},
   "outputs": [],
   "source": [
    "def gkp_pauli_state(a, eps, cutoff = 1e-10):\n",
    "    \"\"\"Generate a state in the GKP subspace, Eq. 4 of https://doi.org/10.1103/PhysRevA.108.052413\n",
    "    \n",
    "    The sum of Gaussians is divided into a sum of Gaussians in x times a sum of Gaussians in p\n",
    "    \n",
    "    Args: \n",
    "        a: [1, a1, a2, a3], where [a1, a3, a3] is the Pauli vector\n",
    "        eps: fock damping strength\n",
    "        \n",
    "    Returns:\n",
    "        cx, mux : up to 4 coefficients and means in x \n",
    "        cp, mup : up to 4 coefficients and means in p \n",
    "        cov : (shared) covaraince mat\n",
    "    \"\"\"\n",
    "    cx = []\n",
    "    mux = []\n",
    "    cp = []\n",
    "    mup = []\n",
    "    \n",
    "    for i, b in enumerate(a): \n",
    "        if b!= 0:\n",
    "            ckx, mukx, ckp, mukp, cov = gkp_pauli_operator(i,eps,cutoff)\n",
    "            cx.append(ckx)\n",
    "            mux.append(mukx)\n",
    "            cp.append(ckp)\n",
    "            mup.append(mukp)\n",
    "        else:\n",
    "            cx.append([])\n",
    "            mux.append([])\n",
    "            cp.append([])\n",
    "            mup.append([])\n",
    "            \n",
    "    return cx, mux, cp, mup, cov\n",
    "    "
   ]
  },
  {
   "cell_type": "code",
   "execution_count": 5,
   "id": "7f08f026-a2b1-43bf-97b6-7920c6b16ada",
   "metadata": {},
   "outputs": [],
   "source": [
    "def single_mode_gauss(x,p, cx, mux, cp, mup, cov):\n",
    "    norm = 1/np.sqrt(2*np.pi*np.linalg.det(cov))\n",
    "    \n",
    "    covx = cov[0,0]\n",
    "    covp = cov[1,1]\n",
    "    \n",
    "    G1 = cx*np.exp(-0.5*covx**(-1)*(x-mux)**2)\n",
    "    G2 = cp*np.exp(-0.5*covp**(-1)*(p-mup)**2)\n",
    "\n",
    "    return norm * np.sum(G1)*np.sum(G2)\n"
   ]
  },
  {
   "cell_type": "code",
   "execution_count": 34,
   "id": "092065a0-799a-436b-bf34-b5a8d3912388",
   "metadata": {},
   "outputs": [
    {
     "name": "stdout",
     "output_type": "stream",
     "text": [
      "Gaussians in total:\n",
      "11\n",
      "0\n",
      "10\n",
      "0\n",
      "11\n",
      "0\n",
      "10\n",
      "0\n",
      "[array([4.54878617e-13, 1.26198192e-08, 3.60447807e-05, 1.05989607e-02,\n",
      "       3.20860179e-01, 1.00000000e+00, 3.20860179e-01, 1.05989607e-02,\n",
      "       3.60447807e-05, 1.26198192e-08, 4.54878617e-13]), [], array([-5.54777372e-26+1.00668912e-10j,  3.84103003e-22-8.96125439e-07j,\n",
      "       -2.51434426e-19+8.21247160e-04j,  1.42335328e-17-7.74837439e-02j,\n",
      "       -4.60850233e-17+7.52625546e-01j, -4.60850233e-17-7.52625546e-01j,\n",
      "        1.42335328e-17+7.74837439e-02j, -2.51434426e-19-8.21247160e-04j,\n",
      "        3.84103003e-22+8.96125439e-07j, -5.54777372e-26-1.00668912e-10j]), []]\n",
      "[array([4.54878617e-13, 1.26198192e-08, 3.60447807e-05, 1.05989607e-02,\n",
      "       3.20860179e-01, 1.00000000e+00, 3.20860179e-01, 1.05989607e-02,\n",
      "       3.60447807e-05, 1.26198192e-08, 4.54878617e-13]), [], array([ 5.54777372e-26-1.00668912e-10j, -3.84103003e-22+8.96125439e-07j,\n",
      "        2.51434426e-19-8.21247160e-04j, -1.42335328e-17+7.74837439e-02j,\n",
      "        4.60850233e-17-7.52625546e-01j,  4.60850233e-17+7.52625546e-01j,\n",
      "       -1.42335328e-17-7.74837439e-02j,  2.51434426e-19+8.21247160e-04j,\n",
      "       -3.84103003e-22-8.96125439e-07j,  5.54777372e-26+1.00668912e-10j]), []]\n"
     ]
    }
   ],
   "source": [
    "#a = [1,1/np.sqrt(3),1/np.sqrt(3),1/np.sqrt(3)]\n",
    "\n",
    "a = [1,0,1,0]\n",
    "cx, mux, cp, mup, cov = gkp_pauli_state(a, 0.379,1e-10)\n",
    "#Coefficients aren't multiplied by a\n",
    "print('Gaussians in total:')\n",
    "for i in cx:\n",
    "    print(len(i))\n",
    "for k in cp:\n",
    "    print(len(k))\n",
    "print(cx)\n",
    "print(cp)\n",
    "#Up to 4 * 2*m_max Gaussians, which is less than 4 * (2*m_max) **2 "
   ]
  },
  {
   "cell_type": "code",
   "execution_count": 35,
   "id": "dc922b96-f2ac-403f-8528-407ed7ff47e1",
   "metadata": {},
   "outputs": [],
   "source": [
    "q = np.linspace(-10,10,200)\n",
    "W = np.zeros((200,200),dtype=complex)\n",
    "norm = 0\n",
    "for k, ckx in enumerate(cx):\n",
    "    norm += np.sum(cx[k])*np.sum(cp[k])\n",
    "    for i,x in enumerate(q):\n",
    "        for j,p in enumerate(q):\n",
    "            W[i,j] += a[k]*single_mode_gauss(x,p,cx[k],mux[k],cp[k],mup[k],cov)"
   ]
  },
  {
   "cell_type": "code",
   "execution_count": 38,
   "id": "08153293-264b-4e1c-8d21-ef3783aa5ef1",
   "metadata": {},
   "outputs": [
    {
     "name": "stdout",
     "output_type": "stream",
     "text": [
      "0.36183870946962055\n"
     ]
    }
   ],
   "source": [
    "print(np.tanh(0.379))"
   ]
  },
  {
   "cell_type": "code",
   "execution_count": 36,
   "id": "e2dde292-05bf-4df3-b0aa-586b4b25e746",
   "metadata": {},
   "outputs": [
    {
     "data": {
      "text/plain": [
       "np.complex128(2.7655370487802062-1.1077258202765192e-33j)"
      ]
     },
     "execution_count": 36,
     "metadata": {},
     "output_type": "execute_result"
    }
   ],
   "source": [
    "norm"
   ]
  },
  {
   "cell_type": "code",
   "execution_count": 37,
   "id": "38d9bf98-ebab-44d2-b2d8-b266cb4646f5",
   "metadata": {},
   "outputs": [
    {
     "data": {
      "image/png": "[encoded data removed]",
      "text/plain": [
       "<Figure size 400x400 with 3 Axes>"
      ]
     },
     "metadata": {},
     "output_type": "display_data"
    }
   ],
   "source": [
    "plot_wigner_marginals(W/norm,q,q,f'Pauli vector {np.round(a,2)}')\n",
    "plt.show()"
   ]
  },
  {
   "cell_type": "code",
   "execution_count": 84,
   "id": "f41d9d8c-74d1-4613-b47d-b05270512c74",
   "metadata": {},
   "outputs": [
    {
     "data": {
      "text/plain": [
       "np.complex128(2.506628274631+0j)"
      ]
     },
     "execution_count": 84,
     "metadata": {},
     "output_type": "execute_result"
    }
   ],
   "source": [
    "np.sum(W/norm)*np.diff(q)[0]**2"
   ]
  },
  {
   "cell_type": "code",
   "execution_count": 85,
   "id": "a6569010-bc20-4af4-8169-3ddfc8aea59b",
   "metadata": {},
   "outputs": [
    {
     "data": {
      "text/plain": [
       "np.float64(2.5066282746310002)"
      ]
     },
     "execution_count": 85,
     "metadata": {},
     "output_type": "execute_result"
    }
   ],
   "source": [
    "np.sqrt(np.pi*2)"
   ]
  },
  {
   "cell_type": "code",
   "execution_count": null,
   "id": "21fe6257-c36c-4b64-b4f5-767ecb4920af",
   "metadata": {},
   "outputs": [],
   "source": []
  },
  {
   "cell_type": "code",
   "execution_count": 340,
   "id": "d3a3bf60-7395-44e5-b05b-24429d69388a",
   "metadata": {},
   "outputs": [],
   "source": [
    "from bosonicplus.base import State"
   ]
  },
  {
   "cell_type": "code",
   "execution_count": null,
   "id": "37e11eb6-7f47-4584-b0ab-c7eb86c4bd2d",
   "metadata": {},
   "outputs": [],
   "source": [
    "def project_gkp_bell(state, eps, eta):\n",
    "\n",
    "    data = gkp_pauli_state([1,1,1,1],eps)\n",
    "\n",
    "    cx, mux, cp, mup, cov = data\n",
    "    \n",
    "\n",
    "    \n",
    "\n",
    "\n",
    "    \n",
    "    \n",
    "    "
   ]
  }
 ],
 "metadata": {
  "kernelspec": {
   "display_name": "241104-bp",
   "language": "python",
   "name": "241104-bp"
  },
  "language_info": {
   "codemirror_mode": {
    "name": "ipython",
    "version": 3
   },
   "file_extension": ".py",
   "mimetype": "text/x-python",
   "name": "python",
   "nbconvert_exporter": "python",
   "pygments_lexer": "ipython3",
   "version": "3.12.5"
  }
 },
 "nbformat": 4,
 "nbformat_minor": 5
}
