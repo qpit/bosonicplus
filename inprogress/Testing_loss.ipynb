{
 "cells": [
  {
   "cell_type": "code",
   "execution_count": 1,
   "id": "df28d7f7-0e3b-4f3a-a67e-3f35b4dfcca0",
   "metadata": {},
   "outputs": [],
   "source": [
    "from bosonicplus.base import State\n",
    "from thewalrus.symplectic import squeezing, xxpp_to_xpxp, xpxp_to_xxpp\n",
    "from thewalrus.decompositions import williamson\n",
    "import numpy as np"
   ]
  },
  {
   "cell_type": "code",
   "execution_count": 2,
   "id": "ed1d0b80-6c1d-4886-b370-56d317fba450",
   "metadata": {},
   "outputs": [
    {
     "name": "stdout",
     "output_type": "stream",
     "text": [
      "[[[0.13533528 0.         0.         0.        ]\n",
      "  [0.         7.3890561  0.         0.        ]\n",
      "  [0.         0.         0.36787944 0.        ]\n",
      "  [0.         0.         0.         2.71828183]]]\n",
      "[[[0.56766764 0.         0.         0.        ]\n",
      "  [0.         4.19452805 0.         0.        ]\n",
      "  [0.         0.         0.36787944 0.        ]\n",
      "  [0.         0.         0.         2.71828183]]]\n"
     ]
    }
   ],
   "source": [
    "state = State(2)\n",
    "state.apply_symplectic_fast(xxpp_to_xpxp(squeezing(1,0)),[0])\n",
    "state.apply_symplectic_fast(xxpp_to_xpxp(squeezing(0.5,0)),[1])\n",
    "sigma = state.covs\n",
    "print(sigma)\n",
    "state.apply_loss(np.array([0.5,1]),np.zeros(2))\n",
    "\n",
    "print(state.covs)\n"
   ]
  },
  {
   "cell_type": "code",
   "execution_count": 3,
   "id": "d36ef55d-8873-44b8-81d2-4f57fc7e9ffc",
   "metadata": {},
   "outputs": [
    {
     "name": "stdout",
     "output_type": "stream",
     "text": [
      "[[0.70710678 0.         0.         0.        ]\n",
      " [0.         0.70710678 0.         0.        ]\n",
      " [0.         0.         1.         0.        ]\n",
      " [0.         0.         0.         1.        ]] [[0.5 0.  0.  0. ]\n",
      " [0.  0.5 0.  0. ]\n",
      " [0.  0.  0.  0. ]\n",
      " [0.  0.  0.  0. ]]\n",
      "[[0.70710678 0.         0.         0.        ]\n",
      " [0.         1.         0.         0.        ]\n",
      " [0.         0.         0.70710678 0.        ]\n",
      " [0.         0.         0.         1.        ]] [[0.5 0.  0.  0. ]\n",
      " [0.  0.  0.  0. ]\n",
      " [0.  0.  0.5 0. ]\n",
      " [0.  0.  0.  0. ]]\n",
      "[[[0.56766764 0.         0.         0.        ]\n",
      "  [0.         4.19452805 0.         0.        ]\n",
      "  [0.         0.         0.36787944 0.        ]\n",
      "  [0.         0.         0.         2.71828183]]]\n",
      "True\n",
      "[[[0.56766764 0.         0.         0.        ]\n",
      "  [0.         7.3890561  0.         0.        ]\n",
      "  [0.         0.         0.68393972 0.        ]\n",
      "  [0.         0.         0.         2.71828183]]]\n",
      "False\n"
     ]
    }
   ],
   "source": [
    "etas = np.array([0.5,1])\n",
    "nbars = np.zeros(2)\n",
    "hbar = 2\n",
    "\n",
    "X1 = np.diag(np.repeat(np.sqrt(etas),2))\n",
    "Y1 = np.diag(np.repeat( (1-etas) * hbar / 2 * (2*nbars + 1) ,2 ))\n",
    "print(X1, Y1) #in xpxp\n",
    "\n",
    "X2 = xxpp_to_xpxp(np.diag(np.repeat(np.sqrt(etas),2)))\n",
    "Y2 = xxpp_to_xpxp(np.diag(np.repeat( (1-etas) * hbar / 2 * (2*nbars + 1) ,2 )))\n",
    "\n",
    "print(X2,Y2) #Should be wrong ordering\n",
    "\n",
    "print(X1@sigma@X1.T + Y1) #Gives same result as bosonicplus\n",
    "print(np.allclose(state.covs, X1@sigma@X1.T + Y1))\n",
    "print(X2@sigma@X2.T + Y2) #Gives weird result\n",
    "print(np.allclose(state.covs, X2@sigma@X2.T + Y2))"
   ]
  },
  {
   "cell_type": "code",
   "execution_count": null,
   "id": "d492344a-ebe3-47ba-b5d3-b42532ebc66a",
   "metadata": {},
   "outputs": [],
   "source": []
  }
 ],
 "metadata": {
  "kernelspec": {
   "display_name": "241104-bp",
   "language": "python",
   "name": "241104-bp"
  },
  "language_info": {
   "codemirror_mode": {
    "name": "ipython",
    "version": 3
   },
   "file_extension": ".py",
   "mimetype": "text/x-python",
   "name": "python",
   "nbconvert_exporter": "python",
   "pygments_lexer": "ipython3",
   "version": "3.12.5"
  }
 },
 "nbformat": 4,
 "nbformat_minor": 5
}
