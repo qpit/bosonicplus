{
 "cells": [
  {
   "cell_type": "code",
   "execution_count": 74,
   "id": "b82b60d9-4f1b-427c-b830-9c0595658a73",
   "metadata": {},
   "outputs": [],
   "source": [
    "import bosonicplus as bp"
   ]
  },
  {
   "cell_type": "code",
   "execution_count": 75,
   "id": "70e4f490-36de-4227-b0a0-25531e3bc639",
   "metadata": {},
   "outputs": [
    {
     "name": "stdout",
     "output_type": "stream",
     "text": [
      "The autoreload extension is already loaded. To reload it, use:\n",
      "  %reload_ext autoreload\n"
     ]
    }
   ],
   "source": [
    "%load_ext autoreload\n",
    "%autoreload 2\n",
    "    \n",
    "import numpy as np\n",
    "import strawberryfields as sf\n",
    "from math import factorial\n",
    "from scipy.special import genlaguerre\n",
    "import matplotlib\n",
    "from time import time\n",
    "#from bosonicpl\n",
    "#from g_ops import gen_interferometer_params, build_interferometer, squeeze\n",
    "#from ng_meas import measure_fock, post_select_PNRD\n",
    "#from ng_states import gen_fock_coherent, order_infidelity_fock_coherent, wig_mn, prepare_fock_bosonic, eps_fock_coherent, fock_outer_coherent, gen_fock_superpos_coherent, eps_superpos_coherent\n",
    "#from strawberryfields.backends.states import BaseBosonicState\n",
    "#from plotting import *\n",
    "#from fidelity import fidelity_with_wigner, fidelity_coherent\n",
    "#from conversions import dB_to_r"
   ]
  },
  {
   "cell_type": "code",
   "execution_count": 76,
   "id": "b96e1cc9-4e5f-49d7-a391-003e762c9977",
   "metadata": {},
   "outputs": [],
   "source": [
    "from bosonicplus.interferometers.parameters import gen_interferometer_params\n",
    "from bosonicplus.interferometers.construct import build_interferometer, build_symmetric_interferometer"
   ]
  },
  {
   "cell_type": "code",
   "execution_count": 77,
   "id": "af5a89b0-9eab-4111-a4cf-5b913f0d0300",
   "metadata": {},
   "outputs": [
    {
     "data": {
      "text/plain": [
       "{'sqz': [(-0.6154252338654337, 1.7296262836731335, 0),\n",
       "  (-0.7539231897328419, 1.3544279545336435, 1),\n",
       "  (-0.29176304463499103, -3.089345391225003, 2),\n",
       "  (-0.6966421531570028, 1.3813283249865203, 3),\n",
       "  (-0.6177700082510074, -2.1105895209524803, 4),\n",
       "  (-0.41737021859806656, 0.8258672725169292, 5),\n",
       "  (-0.8763639987355759, -1.2600472460823189, 6),\n",
       "  (-1.1777758621479055, 0.9880597340016433, 7),\n",
       "  (0.005148126745830248, 0.015993080375127366, 8),\n",
       "  (-1.067470695778653, 0.7412939122496511, 9)],\n",
       " 'bs': [(0.1967529811414087, -2.7107338983630345, [8, 9]),\n",
       "  (1.0615902063751932, -1.6829455084452905, [7, 8]),\n",
       "  (1.4107751221716496, -2.390919810923963, [6, 7]),\n",
       "  (1.3193179222434899, 1.7705714850518914, [5, 6]),\n",
       "  (1.2819496017200875, -1.4275379208265542, [4, 5]),\n",
       "  (0.6154733807703419, 2.473443949039833, [3, 4]),\n",
       "  (0.7947725293355613, -0.2541310685760103, [2, 3]),\n",
       "  (0.20839157226863927, 2.57210643612593, [1, 2]),\n",
       "  (1.288942532763977, -1.7722224204486938, [0, 1])],\n",
       " 'phis': None,\n",
       " 'loss': None,\n",
       " 'alpha': None}"
      ]
     },
     "execution_count": 77,
     "metadata": {},
     "output_type": "execute_result"
    }
   ],
   "source": [
    "gen_interferometer_params(10, 12, bs_arrange = 'inv_cascade')"
   ]
  },
  {
   "cell_type": "code",
   "execution_count": 78,
   "id": "cf803f8b-8ba3-4572-8c04-f88ce37b352c",
   "metadata": {},
   "outputs": [
    {
     "name": "stdout",
     "output_type": "stream",
     "text": [
      "(-0.6819339113326561, 2.3560548741370644, 0)\n",
      "(-0.3577320765218156, 2.7502984641643664, 1)\n",
      "(-0.13082947936183503, 2.42443755909394, 2)\n",
      "(-0.3945757434801178, -0.3421460674430792, 3)\n",
      "(-1.1463692428500019, 1.8552447430141266, 4)\n",
      "(0.04288143948558264, -2.156428962516703, 5)\n",
      "(-0.08010711680247137, -3.0317949844130294, 6)\n",
      "(-1.0282347966081404, 0.8705082674225286, 7)\n",
      "(-0.25140554073823473, -2.0792143685784623, 8)\n",
      "(-0.2817846389759432, 0.5612910501786295, 9)\n"
     ]
    }
   ],
   "source": [
    "params = gen_interferometer_params(10, 12, bs_arrange = 'cascade')\n",
    "sqz = params['sqz']\n",
    "for i in sqz: \n",
    "    print(i)"
   ]
  },
  {
   "cell_type": "code",
   "execution_count": 79,
   "id": "c2084b40-b436-48b2-944a-17368dda6b7b",
   "metadata": {},
   "outputs": [
    {
     "name": "stdout",
     "output_type": "stream",
     "text": [
      "Sgate[-0.866,1.311] on mode 0\n",
      "Sgate[-1.151,-0.234] on mode 1\n",
      "Sgate[-0.101,-0.408] on mode 2\n",
      "Sgate[-1.141,1.090] on mode 3\n",
      "Sgate[-0.248,2.431] on mode 4\n",
      "Sgate[-0.623,1.792] on mode 5\n",
      "Sgate[-0.899,-1.801] on mode 6\n",
      "Sgate[-0.689,2.090] on mode 7\n",
      "Sgate[-1.080,-1.201] on mode 8\n",
      "Sgate[-0.187,-2.914] on mode 9\n",
      "BSgate[0.155,0.959] on modes 0 and 1\n",
      "BSgate[0.757,0.198] on modes 2 and 3\n",
      "BSgate[0.704,-0.130] on modes 4 and 5\n",
      "BSgate[0.898,-2.025] on modes 6 and 7\n",
      "BSgate[1.175,-3.072] on modes 8 and 9\n",
      "BSgate[0.820,-1.326] on modes 1 and 2\n",
      "BSgate[1.440,1.791] on modes 3 and 4\n",
      "BSgate[1.418,2.209] on modes 5 and 6\n",
      "BSgate[1.334,0.214] on modes 7 and 8\n",
      "BSgate[0.775,0.547] on modes 0 and 1\n",
      "BSgate[1.054,0.579] on modes 2 and 3\n",
      "BSgate[1.135,0.583] on modes 4 and 5\n",
      "BSgate[0.902,-1.117] on modes 6 and 7\n",
      "BSgate[1.335,2.239] on modes 8 and 9\n",
      "BSgate[0.286,2.273] on modes 1 and 2\n",
      "BSgate[0.255,-1.345] on modes 3 and 4\n",
      "BSgate[0.232,0.351] on modes 5 and 6\n",
      "BSgate[1.415,-1.197] on modes 7 and 8\n",
      "BSgate[0.564,-0.735] on modes 0 and 1\n",
      "BSgate[0.754,-1.341] on modes 2 and 3\n",
      "BSgate[0.144,-2.414] on modes 4 and 5\n",
      "BSgate[0.552,-0.936] on modes 6 and 7\n",
      "BSgate[1.062,0.153] on modes 8 and 9\n",
      "BSgate[1.020,-1.947] on modes 1 and 2\n",
      "BSgate[1.006,-1.927] on modes 3 and 4\n",
      "BSgate[1.398,2.792] on modes 5 and 6\n",
      "BSgate[1.406,-2.046] on modes 7 and 8\n",
      "BSgate[1.038,0.431] on modes 0 and 1\n",
      "BSgate[1.450,3.094] on modes 2 and 3\n",
      "BSgate[0.697,2.571] on modes 4 and 5\n",
      "BSgate[0.111,1.891] on modes 6 and 7\n",
      "BSgate[0.606,0.312] on modes 8 and 9\n",
      "BSgate[0.465,-2.972] on modes 1 and 2\n",
      "BSgate[0.828,1.140] on modes 3 and 4\n",
      "BSgate[0.348,-1.852] on modes 5 and 6\n",
      "BSgate[0.297,-2.321] on modes 7 and 8\n",
      "BSgate[0.169,-2.231] on modes 0 and 1\n",
      "BSgate[0.132,1.735] on modes 2 and 3\n",
      "BSgate[0.984,-0.728] on modes 4 and 5\n",
      "BSgate[0.101,2.129] on modes 6 and 7\n",
      "BSgate[0.345,0.471] on modes 8 and 9\n",
      "BSgate[1.122,1.829] on modes 1 and 2\n",
      "BSgate[0.969,0.967] on modes 3 and 4\n",
      "BSgate[0.890,-1.846] on modes 5 and 6\n",
      "BSgate[1.171,-1.255] on modes 7 and 8\n"
     ]
    }
   ],
   "source": [
    "circut = build_interferometer(gen_interferometer_params(10,12), 10, True)"
   ]
  },
  {
   "cell_type": "code",
   "execution_count": 80,
   "id": "c8b5821a-c37d-4140-84c7-f38823e7f967",
   "metadata": {},
   "outputs": [
    {
     "name": "stdout",
     "output_type": "stream",
     "text": [
      "Sgate[-0.682,2.356] on mode 0\n",
      "Sgate[-0.358,2.750] on mode 1\n",
      "Sgate[-0.131,2.424] on mode 2\n",
      "Sgate[-0.395,-0.342] on mode 3\n",
      "Sgate[-1.146,1.855] on mode 4\n",
      "Sgate[0.043,-2.156] on mode 5\n",
      "Sgate[-0.080,-3.032] on mode 6\n",
      "Sgate[-1.028,0.871] on mode 7\n",
      "Sgate[-0.251,-2.079] on mode 8\n",
      "Sgate[-0.282,0.561] on mode 9\n",
      "Applied symmetric multiport interferometer unitary.\n"
     ]
    }
   ],
   "source": [
    "circuit = build_symmetric_interferometer(params, 10, True)"
   ]
  },
  {
   "cell_type": "code",
   "execution_count": null,
   "id": "3be0d8f0-fc7b-47e9-911f-ab27ffa47c15",
   "metadata": {},
   "outputs": [],
   "source": [
    "from bosonicplus."
   ]
  },
  {
   "cell_type": "code",
   "execution_count": null,
   "id": "9c94a29f-37cf-44df-827a-2f77c0594036",
   "metadata": {},
   "outputs": [],
   "source": []
  }
 ],
 "metadata": {
  "kernelspec": {
   "display_name": "240827-bp",
   "language": "python",
   "name": "240827-bp"
  },
  "language_info": {
   "codemirror_mode": {
    "name": "ipython",
    "version": 3
   },
   "file_extension": ".py",
   "mimetype": "text/x-python",
   "name": "python",
   "nbconvert_exporter": "python",
   "pygments_lexer": "ipython3",
   "version": "3.11.3"
  }
 },
 "nbformat": 4,
 "nbformat_minor": 5
}
