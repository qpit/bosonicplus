{
 "cells": [
  {
   "cell_type": "markdown",
   "id": "55755e84-547d-47ba-bd7a-62ee259e5508",
   "metadata": {},
   "source": [
    "# Comparing the simulation of a random GBS circuit with bosonicplus and strawberryfield's Fock backend"
   ]
  },
  {
   "cell_type": "code",
   "execution_count": 1,
   "id": "f77ad087-42e4-4891-a577-abd3c3337182",
   "metadata": {},
   "outputs": [],
   "source": [
    "%load_ext autoreload\n",
    "%autoreload 2\n",
    "from matplotlib import pyplot as plt\n",
    "import numpy as np\n",
    "#import strawberryfields as sf\n",
    "\n",
    "from bosonicplus.operations.circuit_parameters import gen_interferometer_params\n",
    "from bosonicplus.operations.gbs import build_interferometer\n",
    "from bosonicplus.base import State\n",
    "from bosonicplus.fidelity import overlap_bosonic\n",
    "from bosonicplus.plotting import plot_wig\n",
    "from time import time"
   ]
  },
  {
   "cell_type": "markdown",
   "id": "0e740bf5-0d26-4ce2-b775-66d9375ff257",
   "metadata": {},
   "source": [
    "## Simulate GBS circuit with bosonicplus"
   ]
  },
  {
   "cell_type": "code",
   "execution_count": 2,
   "id": "df836183-d267-4163-94bd-2206b2a3c221",
   "metadata": {},
   "outputs": [
    {
     "name": "stdout",
     "output_type": "stream",
     "text": [
      "Building the interferometer\n",
      "--------------------------------------------------\n",
      "Sgate[-0.551,0.000] on mode 0\n",
      "Sgate[-0.315,0.000] on mode 1\n",
      "Sgate[-0.375,0.000] on mode 2\n",
      "Sgate[-0.749,0.000] on mode 3\n",
      "BSgate[0.557,0.000] on modes 0 and 1\n",
      "BSgate[1.094,0.000] on modes 2 and 3\n",
      "BSgate[0.994,0.000] on modes 1 and 2\n",
      "BSgate[0.792,0.000] on modes 0 and 1\n",
      "BSgate[1.399,0.000] on modes 2 and 3\n",
      "BSgate[0.960,0.000] on modes 1 and 2\n",
      "Circuit building time = 0.0012857913970947266 s\n",
      "\n",
      "Performing photon measurements\n",
      "--------------------------------------------------\n",
      "Measuring 5 photons in mode 3.\n",
      "Data shape before measurement, [(1, 8), (1, 8, 8)].\n",
      "Probability of measurement = 1.052e-03+2.220e-16j\n",
      "Data shape after measurement, [(36, 6), (1, 6, 6)]\n",
      "Post selection time 0.0009829998016357422 s\n",
      "Measuring 5 photons in mode 2.\n",
      "Data shape before measurement, [(36, 6), (1, 6, 6)].\n",
      "Probability of measurement = 2.580e-06-2.665e-15j\n",
      "Data shape after measurement, [(1296, 4), (1, 4, 4)]\n",
      "Post selection time 0.0010330677032470703 s\n",
      "Measuring 5 photons in mode 1.\n",
      "Data shape before measurement, [(1296, 4), (1, 4, 4)].\n",
      "Probability of measurement = 8.222e-09-1.188e-14j\n",
      "Data shape after measurement, [(46656, 2), (1, 2, 2)]\n",
      "Post selection time 0.003779888153076172 s\n",
      "Total time for measurements 0.005918025970458984 s\n",
      "\n",
      "Total simulation time 0.0072977542877197266 s\n"
     ]
    }
   ],
   "source": [
    "num = 4\n",
    "\n",
    "np.random.seed(91) #Seed for random circuit parameters\n",
    "ti = time()\n",
    "params = gen_interferometer_params(num, -8)\n",
    "print('Building the interferometer')\n",
    "print('-'*50)\n",
    "state_coherent = build_interferometer(params, num, out = True)\n",
    "#circuit = build_interferometer(params, num, out=True)\n",
    "t1 = time()\n",
    "print(f'Circuit building time = {t1-ti} s')\n",
    "n = 5\n",
    "ns = np.repeat(n, num-1) #Photon pattern\n",
    "\n",
    "print('\\nPerforming photon measurements')\n",
    "print('-'*50)\n",
    "\n",
    "T0 = time()\n",
    "\n",
    "for i, n in enumerate(ns):\n",
    "    \n",
    "    t0 = time()\n",
    "    \n",
    "    #modes = circuit.get_modes()\n",
    "    modes = np.arange(state_coherent.num_modes)\n",
    "    \n",
    "    #state.post_select_fock_coherent(circuit, modes[-1], n,out=True)\n",
    "    state_coherent.post_select_fock_coherent(modes[-1], n, inf=1e-5, out=True )\n",
    "    \n",
    "    t1 = time()\n",
    "    print(f'Post selection time {t1-t0} s')\n",
    "\n",
    "T1 = time()\n",
    "\n",
    "print(f'Total time for measurements {T1-T0} s')\n",
    "\n",
    "print(f'\\nTotal simulation time {T1-ti} s')\n",
    "    "
   ]
  },
  {
   "cell_type": "markdown",
   "id": "5e7a7020-106e-4326-b816-00c0bce24c38",
   "metadata": {},
   "source": [
    "## Simulate the circuit in strawberryfields Fock basis"
   ]
  },
  {
   "cell_type": "code",
   "execution_count": 1,
   "id": "7398c26b-2056-4ae5-bd15-c8591c6bdc2e",
   "metadata": {},
   "outputs": [],
   "source": [
    "import strawberryfields as sf\n",
    "from strawberryfields.ops import Sgate, BSgate, MeasureFock, MeasureHomodyne"
   ]
  },
  {
   "cell_type": "code",
   "execution_count": 2,
   "id": "6a3cce74-a042-40b1-a66e-db52fb1f1b33",
   "metadata": {},
   "outputs": [
    {
     "ename": "NameError",
     "evalue": "name 'params' is not defined",
     "output_type": "error",
     "traceback": [
      "\u001b[0;31m---------------------------------------------------------------------------\u001b[0m",
      "\u001b[0;31mNameError\u001b[0m                                 Traceback (most recent call last)",
      "Cell \u001b[0;32mIn[2], line 1\u001b[0m\n\u001b[0;32m----> 1\u001b[0m sqz \u001b[38;5;241m=\u001b[39m \u001b[43mparams\u001b[49m[\u001b[38;5;124m'\u001b[39m\u001b[38;5;124msqz\u001b[39m\u001b[38;5;124m'\u001b[39m]\n\u001b[1;32m      2\u001b[0m bs \u001b[38;5;241m=\u001b[39m params[\u001b[38;5;124m'\u001b[39m\u001b[38;5;124mbs\u001b[39m\u001b[38;5;124m'\u001b[39m]\n\u001b[1;32m      4\u001b[0m eng \u001b[38;5;241m=\u001b[39m sf\u001b[38;5;241m.\u001b[39mEngine(\u001b[38;5;124m'\u001b[39m\u001b[38;5;124mfock\u001b[39m\u001b[38;5;124m'\u001b[39m, backend_options\u001b[38;5;241m=\u001b[39m{\u001b[38;5;124m\"\u001b[39m\u001b[38;5;124mcutoff_dim\u001b[39m\u001b[38;5;124m\"\u001b[39m: \u001b[38;5;241m20\u001b[39m})\n",
      "\u001b[0;31mNameError\u001b[0m: name 'params' is not defined"
     ]
    }
   ],
   "source": [
    "sqz = params['sqz']\n",
    "bs = params['bs']\n",
    "\n",
    "eng = sf.Engine('fock', backend_options={\"cutoff_dim\": 20})\n",
    "prog = sf.Program(num)\n",
    "\n",
    "ns_fock = ns.tolist()\n",
    "\n",
    "t0 = time()\n",
    "\n",
    "with prog.context as q:\n",
    "    for i in range(num):\n",
    "        Sgate(sqz[i][0], sqz[i][1]) | q[i]\n",
    "    for i in range(len(bs)):\n",
    "        BSgate(bs[i][0], bs[i][1]) | (q[bs[i][2][0]], q[bs[i][2][1]])\n",
    "        \n",
    "    for i in range(num-1):\n",
    "        MeasureFock(select = ns_fock[i]) | q[(num-1)-i] #Measure the last mode\n",
    "\n",
    "result = eng.run(prog)\n",
    "\n",
    "tf = time()\n",
    "\n",
    "print(f'Total simulation time {tf-t0}')"
   ]
  },
  {
   "cell_type": "markdown",
   "id": "c5f0c46f-a0a4-468f-9c25-5f7259e9b903",
   "metadata": {},
   "source": [
    "## Comparing the output state from both methods\n",
    "Increasing the `cutoff_dim` in `backend_options` in `eng` will improve strawberryfield's accuracy."
   ]
  },
  {
   "cell_type": "code",
   "execution_count": 14,
   "id": "e928bf8e-6ada-47a5-a85d-ce13e5e90755",
   "metadata": {},
   "outputs": [
    {
     "data": {
      "image/png": "[encoded data removed]",
      "text/plain": [
       "<Figure size 900x400 with 4 Axes>"
      ]
     },
     "metadata": {},
     "output_type": "display_data"
    },
    {
     "name": "stdout",
     "output_type": "stream",
     "text": [
      "Fidelity to vacuum sf:  0.2213390401360774\n",
      "Fidelity to vacuum bosonicplus:  (0.2213166069656603-4.5397725088930355e-08j)\n",
      "Number expectation sf:  (1.6829402500088129, 1.1403083259783338)\n",
      "Number expectation bosonicplus:  ((1.6830272441729903+4.598405212163925e-08j), (1.5228535941569135+4.7031790018081665e-08j))\n"
     ]
    }
   ],
   "source": [
    "state = result.state\n",
    "\n",
    "x = np.linspace(-6,6,100)\n",
    "W = state.get_wigner_bosonic(x,x)\n",
    "\n",
    "fig, axes = plt.subplots(1,2, figsize = (9,4))\n",
    "plot_wig(axes[0], W ,x,x)\n",
    "axes[0].set_title(f'Strawberryfields')\n",
    "W_coherent = state_coherent.get_wigner_bosonic(x,x)\n",
    "plot_wig(axes[1], W_coherent, x, x)\n",
    "axes[1].set_title(f'Bosonicplus')\n",
    "\n",
    "plt.show()\n",
    "\n",
    "\n",
    "print('Fidelity to vacuum sf: ', state.fidelity_vacuum() )\n",
    "print('Fidelity to vacuum bosonicplus: ', overlap_bosonic(state_coherent, State()))\n",
    "\n",
    "print('Number expectation sf: ', state.mean_photon(0))\n",
    "print('Number expectation bosonicplus: ', state_coherent.get_mean_photons())"
   ]
  },
  {
   "cell_type": "markdown",
   "id": "64e3e750-d7c1-4840-973a-4dcdcb2257dc",
   "metadata": {},
   "source": [
    "## Post selecting on psuedo PNRD measurement outcome with bosonicplus\n",
    "This method will run into precision issues the higher the number of on/off detectors per click detector `M` for the same reason that the bosonicbackend's Fock approximation runs into precision issues. "
   ]
  },
  {
   "cell_type": "code",
   "execution_count": 3,
   "id": "10b04cf3-134f-4735-aeeb-78313a653d88",
   "metadata": {},
   "outputs": [
    {
     "name": "stdout",
     "output_type": "stream",
     "text": [
      "Building the interferometer\n",
      "--------------------------------------------------\n",
      "Sgate[-1.360,0.000] on mode 0\n",
      "Sgate[1.171,0.000] on mode 1\n",
      "Sgate[0.435,0.000] on mode 2\n",
      "BSgate[0.521,0.000] on modes 0 and 1\n",
      "BSgate[1.074,0.000] on modes 1 and 2\n",
      "BSgate[1.357,0.000] on modes 0 and 1\n",
      "Circuit building time = 0.001216888427734375 s\n",
      "\n",
      "Performing click measurements\n",
      "--------------------------------------------------\n",
      "Measuring 5 clicks in mode 2.\n",
      "Data shape before measurement, [(1, 6), (1, 6, 6)].\n",
      "Probability of measurement = 1.000e+00\n",
      "Data shape after measurement, [(6, 4), (6, 4, 4)]\n",
      "Post selection time 0.00040793418884277344 s\n",
      "Measuring 5 clicks in mode 1.\n",
      "Data shape before measurement, [(6, 4), (6, 4, 4)].\n",
      "Probability of measurement = 3.728e-02\n",
      "Data shape after measurement, [(36, 2), (36, 2, 2)]\n",
      "Post selection time 0.0003058910369873047 s\n",
      "Total time for measurements 0.0008461475372314453 s\n",
      "\n",
      "Total simulation time 0.002177000045776367 s\n"
     ]
    }
   ],
   "source": [
    "num = 3\n",
    "M = 8 #Number of on/off detectors per pPNRD\n",
    "n = 5\n",
    "ns = np.repeat(n, num-1) #Click outcomes\n",
    "\n",
    "ti = time()\n",
    "params = gen_interferometer_params(num,12)\n",
    "\n",
    "print('Building the interferometer')\n",
    "print('-'*50)\n",
    "state_th = build_interferometer(params, num, out=True)\n",
    "#circuit = build_interferometer(params, num, out=True)\n",
    "t1 = time()\n",
    "print(f'Circuit building time = {t1-ti} s')\n",
    "\n",
    "print('\\nPerforming click measurements')\n",
    "print('-'*50)\n",
    "\n",
    "T0 = time()\n",
    "\n",
    "for i, n in enumerate(ns):\n",
    "    \n",
    "    t0 = time()\n",
    "    modes = np.arange(state_th.num_modes)\n",
    "    #modes = circuit.get_modes()\n",
    "    state_th.post_select_ppnrd_thermal(modes[-1], n, M, out=True)\n",
    "    t1 = time()\n",
    "    print(f'Post selection time {t1-t0} s')\n",
    "\n",
    "T1 = time()\n",
    "\n",
    "print(f'Total time for measurements {T1-T0} s')\n",
    "\n",
    "print(f'\\nTotal simulation time {T1-ti} s')\n",
    "    "
   ]
  },
  {
   "cell_type": "code",
   "execution_count": 4,
   "id": "d10e2c15-d6f3-4b04-984f-43709fb88f0f",
   "metadata": {},
   "outputs": [
    {
     "ename": "NameError",
     "evalue": "name 'W_coherent' is not defined",
     "output_type": "error",
     "traceback": [
      "\u001b[0;31m---------------------------------------------------------------------------\u001b[0m",
      "\u001b[0;31mNameError\u001b[0m                                 Traceback (most recent call last)",
      "Cell \u001b[0;32mIn[4], line 2\u001b[0m\n\u001b[1;32m      1\u001b[0m fig, axes \u001b[38;5;241m=\u001b[39m plt\u001b[38;5;241m.\u001b[39msubplots(\u001b[38;5;241m1\u001b[39m,\u001b[38;5;241m2\u001b[39m, figsize \u001b[38;5;241m=\u001b[39m (\u001b[38;5;241m9\u001b[39m,\u001b[38;5;241m4\u001b[39m))\n\u001b[0;32m----> 2\u001b[0m plot_wig(axes[\u001b[38;5;241m0\u001b[39m], \u001b[43mW_coherent\u001b[49m, x, x)\n\u001b[1;32m      4\u001b[0m axes[\u001b[38;5;241m0\u001b[39m]\u001b[38;5;241m.\u001b[39mset_title(\u001b[38;5;124mf\u001b[39m\u001b[38;5;124m'\u001b[39m\u001b[38;5;124mBosonicplus\u001b[39m\u001b[38;5;124m'\u001b[39m)\n\u001b[1;32m      6\u001b[0m \u001b[38;5;66;03m#state_th = get_state(circuit)\u001b[39;00m\n",
      "\u001b[0;31mNameError\u001b[0m: name 'W_coherent' is not defined"
     ]
    },
    {
     "data": {
      "image/png": "[encoded data removed]",
      "text/plain": [
       "<Figure size 900x400 with 2 Axes>"
      ]
     },
     "metadata": {},
     "output_type": "display_data"
    }
   ],
   "source": [
    "fig, axes = plt.subplots(1,2, figsize = (9,4))\n",
    "plot_wig(axes[0], W_coherent, x, x)\n",
    "\n",
    "axes[0].set_title(f'Bosonicplus')\n",
    "\n",
    "#state_th = get_state(circuit)\n",
    "W = state_th.get_wigner_bosonic(x,x)\n",
    "\n",
    "plot_wig(axes[1], W, x, x)\n",
    "axes[1].set_title(f'Bosonicplus with pPNRD')\n",
    "\n",
    "plt.show()"
   ]
  },
  {
   "cell_type": "markdown",
   "id": "cb4525f2-0992-46e3-ad4e-78411f35a109",
   "metadata": {},
   "source": [
    "## Test circuit"
   ]
  },
  {
   "cell_type": "code",
   "execution_count": 17,
   "id": "d78ed8bb-437d-417a-a901-26b0dbc3760c",
   "metadata": {},
   "outputs": [],
   "source": [
    "from thewalrus.symplectic import xxpp_to_xpxp, expand, squeezing, beam_splitter\n",
    "nmodes =3\n",
    "n = 6\n",
    "S1 = xxpp_to_xpxp(expand(squeezing(0.5),[0], nmodes))\n",
    "S2 = xxpp_to_xpxp(expand(squeezing(1, np.pi),[1], nmodes))\n",
    "S3 = xxpp_to_xpxp(expand(squeezing(0.5),[2], nmodes))\n",
    "BS1 = xxpp_to_xpxp(expand(beam_splitter(np.pi/3, 0), [0,1],nmodes))\n",
    "BS2 = xxpp_to_xpxp(expand(beam_splitter(np.pi/5, 0), [1,2],nmodes))\n",
    "\n",
    "Stot = BS2@BS1@S3@S2@S1\n",
    "\n",
    "\n",
    "state = State(nmodes)\n",
    "state.apply_symplectic(Stot)\n",
    "state.post_select_fock_coherent(0, n, 1e-4)\n",
    "state.post_select_fock_coherent(0, n, 1e-4)\n",
    "\n",
    "\n",
    "\n",
    "eng = sf.Engine('fock', backend_options={\"cutoff_dim\": 25})\n",
    "prog = sf.Program(num)\n",
    "\n",
    "ns_fock = [n,n]\n",
    "\n",
    "t0 = time()\n",
    "\n",
    "with prog.context as q:\n",
    "    \n",
    "    Sgate(0.5,0) | q[0]\n",
    "    Sgate(1,np.pi) | q[1]\n",
    "    Sgate(0.5,0) | q[2]\n",
    "    \n",
    "    BSgate(np.pi/3, 0) | (q[0], q[1])\n",
    "    BSgate(np.pi/5, 0) | (q[1], q[2])\n",
    "        \n",
    "    for i in range(num-1):\n",
    "        MeasureFock(select = ns_fock[i]) | q[i] #Measure the first mode\n",
    "\n",
    "result = eng.run(prog)\n"
   ]
  },
  {
   "cell_type": "code",
   "execution_count": 18,
   "id": "f4063920-e4a2-4f1f-87dc-166540c0fc60",
   "metadata": {},
   "outputs": [
    {
     "name": "stdout",
     "output_type": "stream",
     "text": [
      "(0.6783735266693751, 1.2103871063143152)\n",
      "0.6979407608878457\n",
      "((0.6783800663820703+2.255973186038318e-13j), (0.4821014173473266-4.583000645652646e-13j))\n",
      "(0.6979389938735644-5.178030232215504e-13j)\n"
     ]
    }
   ],
   "source": [
    "print(result.state.mean_photon(2))\n",
    "print(result.state.fidelity_vacuum())\n",
    "print(state.get_mean_photons())\n",
    "print(fidelity_bosonic(state, State()))\n"
   ]
  },
  {
   "cell_type": "code",
   "execution_count": 19,
   "id": "1c8be309-0fc2-48a0-b8cc-f6a7fa18482e",
   "metadata": {},
   "outputs": [],
   "source": [
    "state = State(nmodes)\n",
    "state.apply_symplectic(Stot)\n",
    "state.post_select_homodyne(0, 0, 0)\n",
    "state.post_select_homodyne(0, 0, 0)\n",
    "\n",
    "eng = sf.Engine('gaussian')\n",
    "prog = sf.Program(nmodes)\n",
    "\n",
    "t0 = time()\n",
    "\n",
    "with prog.context as q:\n",
    "    Sgate(0.5,0) | q[0]\n",
    "    Sgate(1,np.pi) | q[1]\n",
    "    Sgate(0.5,0) | q[2]\n",
    "    \n",
    "    BSgate(np.pi/3, 0) | (q[0], q[1])\n",
    "    BSgate(np.pi/5, 0) | (q[1], q[2])\n",
    "    for i in range(num-1):\n",
    "        MeasureHomodyne(0, select = 0) | q[i] #Measure the first mode\n",
    "\n",
    "result = eng.run(prog)\n"
   ]
  },
  {
   "cell_type": "code",
   "execution_count": 20,
   "id": "e94bc326-d1b3-43ab-8ec5-dd7fcb50011d",
   "metadata": {},
   "outputs": [
    {
     "name": "stdout",
     "output_type": "stream",
     "text": [
      "(0.22398928178451882, 0.548320960277727)\n",
      "0.9038808650986042\n",
      "(0.22398928620364913, 0.5483209730753389)\n",
      "0.903880863466904\n"
     ]
    }
   ],
   "source": [
    "print(result.state.mean_photon(2))\n",
    "print(result.state.fidelity_vacuum())\n",
    "print(state.get_mean_photons())\n",
    "print(overlap_bosonic(state, State()))"
   ]
  },
  {
   "cell_type": "code",
   "execution_count": null,
   "id": "19660540-70fb-46d9-af34-a9f0d22e61fe",
   "metadata": {},
   "outputs": [],
   "source": []
  }
 ],
 "metadata": {
  "kernelspec": {
   "display_name": "241104-bp",
   "language": "python",
   "name": "241104-bp"
  },
  "language_info": {
   "codemirror_mode": {
    "name": "ipython",
    "version": 3
   },
   "file_extension": ".py",
   "mimetype": "text/x-python",
   "name": "python",
   "nbconvert_exporter": "python",
   "pygments_lexer": "ipython3",
   "version": "3.12.5"
  }
 },
 "nbformat": 4,
 "nbformat_minor": 5
}
