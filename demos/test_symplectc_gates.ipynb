{
 "cells": [
  {
   "cell_type": "code",
   "execution_count": 21,
   "id": "72d21a8f-ba1a-484f-bc96-247446e1d1e7",
   "metadata": {},
   "outputs": [],
   "source": [
    "from bosonicplus.base import State\n",
    "from thewalrus.symplectic import beam_splitter, expand, squeezing, xxpp_to_xpxp\n",
    "import numpy as np\n",
    "from time import time\n",
    "\n",
    "from strawberryfields.backends.gaussianbackend.gaussiancircuit import GaussianModes\n",
    "from strawberryfields.backends.bosonicbackend.bosoniccircuit import BosonicModes"
   ]
  },
  {
   "cell_type": "code",
   "execution_count": 22,
   "id": "37c2e954-224e-4c3f-920e-3b8b3dc1ad97",
   "metadata": {},
   "outputs": [
    {
     "name": "stdout",
     "output_type": "stream",
     "text": [
      "bosonicplus time: 0.5469448566436768\n",
      "bosonicplus fast: 0.041207075119018555\n",
      "Same cov? True\n",
      "sf gaussian backend time: 0.07728219032287598\n",
      "sf bosonic backend time:  2.7756998538970947\n"
     ]
    }
   ],
   "source": [
    "# Comparing the time it takes to apply one single-mode and one two-mode gate in bosonicplus vs strawberryfield's backends. \n",
    "\n",
    "nmodes = 1000\n",
    "\n",
    "t1 = time()\n",
    "test = State(nmodes)\n",
    "S = expand(squeezing(1,0), 1, nmodes)\n",
    "S = expand(beam_splitter(np.pi/4, 0), [0,1], nmodes)@S\n",
    "test.apply_symplectic(xxpp_to_xpxp(S))\n",
    "\n",
    "covbp1 = test.covs\n",
    "t2 = time()\n",
    "\n",
    "print('bosonicplus time:', t2-t1)\n",
    "\n",
    "t1 = time()\n",
    "\n",
    "test = State(nmodes)\n",
    "S = squeezing(1,0)\n",
    "test.apply_symplectic_fast(S, [1])\n",
    "S = xxpp_to_xpxp(beam_splitter(np.pi/4,0))\n",
    "test.apply_symplectic_fast(S, [0,1])\n",
    "t2 = time()\n",
    "covbp2 = test.covs\n",
    "print('bosonicplus fast:', t2-t1)\n",
    "\n",
    "print('Same cov?', np.allclose(covbp1,covbp2))\n",
    "#The gaussian backend is faster than bosonicplus and bosonicbackend \n",
    "#because each gate is hard coded to change the elements of the N and M mat.\n",
    "#(See https://github.com/XanaduAI/strawberryfields/blob/master/strawberryfields/backends/gaussianbackend/gaussiancircuit.py)\n",
    "\n",
    "t0 =time()\n",
    "gs = GaussianModes(nmodes)\n",
    "gs.squeeze(1,0,1)\n",
    "gs.beamsplitter(np.pi/4, 0, 0,1)\n",
    "cov = gs.scovmatxp()\n",
    "t1 = time()\n",
    "print('sf gaussian backend time:', t1-t0)\n",
    "\n",
    "t0 = time()\n",
    "bs = BosonicModes(nmodes)\n",
    "bs.squeeze(1,0,1)\n",
    "bs.beamsplitter(np.pi/4, 0, 0,1)\n",
    "t1 = time()\n",
    "covbs = bs.covs\n",
    "print('sf bosonic backend time: ', t1-t0)\n",
    "\n"
   ]
  }
 ],
 "metadata": {
  "kernelspec": {
   "display_name": "240827-bp",
   "language": "python",
   "name": "240827-bp"
  },
  "language_info": {
   "codemirror_mode": {
    "name": "ipython",
    "version": 3
   },
   "file_extension": ".py",
   "mimetype": "text/x-python",
   "name": "python",
   "nbconvert_exporter": "python",
   "pygments_lexer": "ipython3",
   "version": "3.11.3"
  }
 },
 "nbformat": 4,
 "nbformat_minor": 5
}
