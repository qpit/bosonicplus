{
 "cells": [
  {
   "cell_type": "code",
   "execution_count": 2,
   "id": "aabf96fe-ca2f-4736-9fe5-7e2206d0335d",
   "metadata": {},
   "outputs": [
    {
     "name": "stdout",
     "output_type": "stream",
     "text": [
      "xxpp\n",
      "[[[ 2.38109785e+00 -1.11040575e-16  2.56457759e+00 -1.57035087e-16]\n",
      "  [-1.11040575e-16  2.38109785e+00 -1.57035087e-16 -2.56457759e+00]\n",
      "  [ 2.56457759e+00 -1.57035087e-16  3.76219569e+00 -2.22081149e-16]\n",
      "  [-1.57035087e-16 -2.56457759e+00 -2.22081149e-16  3.76219569e+00]]]\n",
      "xpxp\n",
      "[array([[ 2.38109785e+00,  2.56457759e+00, -1.11040575e-16,\n",
      "        -1.57035087e-16],\n",
      "       [ 2.56457759e+00,  3.76219569e+00, -1.57035087e-16,\n",
      "        -2.22081149e-16],\n",
      "       [-1.11040575e-16, -1.57035087e-16,  2.38109785e+00,\n",
      "        -2.56457759e+00],\n",
      "       [-1.57035087e-16, -2.22081149e-16, -2.56457759e+00,\n",
      "         3.76219569e+00]])]\n"
     ]
    }
   ],
   "source": [
    "from bosonicplus.newpackage.base import State\n",
    "import numpy as np\n",
    "from thewalrus.symplectic import squeezing, beam_splitter, expand, xxpp_to_xpxp, expand_vector\n",
    "\n",
    "S1 = xxpp_to_xpxp(expand(squeezing(1,np.pi), [0], 2))\n",
    "B = xxpp_to_xpxp(beam_splitter(np.pi/4, 0))\n",
    "S2 = xxpp_to_xpxp(expand(squeezing(1,0), [1], 2))\n",
    "\n",
    "\n",
    "s1 = State(2)\n",
    "print(s1.ordering)\n",
    "s1.apply_symplectic(B@S1@S2)\n",
    "s1.apply_loss(np.array([0.5,1.0]),np.array([0,0]))\n",
    "print(s1.covs)\n",
    "\n",
    "s1.to_xpxp()\n",
    "print(s1.ordering)\n",
    "print(s1.covs)"
   ]
  },
  {
   "cell_type": "code",
   "execution_count": 10,
   "id": "99127337-d31d-4455-a524-7b9ab6d4eae1",
   "metadata": {},
   "outputs": [],
   "source": [
    "from bosonicplus.newpackage.gbs import build_interferometer\n",
    "from bosonicplus.interferometers.construct import build_interferometer as old\n",
    "from bosonicplus.interferometers.parameters import gen_interferometer_params\n",
    "from time import time"
   ]
  },
  {
   "cell_type": "code",
   "execution_count": 14,
   "id": "792861cb-21ef-4c2a-ac1c-e32171307fbb",
   "metadata": {},
   "outputs": [
    {
     "name": "stdout",
     "output_type": "stream",
     "text": [
      "xxpp\n",
      "xpxp\n",
      "True\n",
      "sf 0.008471012115478516\n",
      "bosonicplus 0.010821104049682617\n",
      "1.2774275260343373\n"
     ]
    }
   ],
   "source": [
    "nmodes = 10\n",
    "params = gen_interferometer_params(nmodes, -13)\n",
    "t0 = time()\n",
    "state = build_interferometer(params, nmodes)\n",
    "print(state.ordering)\n",
    "t1 = time()\n",
    "\n",
    "ti = time()\n",
    "circuit = old(params, nmodes)\n",
    "tf = time()\n",
    "state.to_xpxp()\n",
    "print(state.ordering)\n",
    "print(np.allclose(circuit.covs, state.covs))\n",
    "\n",
    "print('sf', tf-ti)\n",
    "print('bosonicplus', t1-t0)\n",
    "\n",
    "print((t1-t0)/(tf-ti))"
   ]
  }
 ],
 "metadata": {
  "kernelspec": {
   "display_name": "240827-bp",
   "language": "python",
   "name": "240827-bp"
  },
  "language_info": {
   "codemirror_mode": {
    "name": "ipython",
    "version": 3
   },
   "file_extension": ".py",
   "mimetype": "text/x-python",
   "name": "python",
   "nbconvert_exporter": "python",
   "pygments_lexer": "ipython3",
   "version": "3.11.3"
  }
 },
 "nbformat": 4,
 "nbformat_minor": 5
}
