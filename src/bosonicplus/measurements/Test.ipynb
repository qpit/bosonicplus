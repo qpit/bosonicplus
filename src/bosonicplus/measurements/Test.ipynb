{
 "cells": [
  {
   "cell_type": "code",
   "execution_count": 81,
   "id": "aae45a9a-0070-425a-a623-52db45c15e32",
   "metadata": {},
   "outputs": [
    {
     "name": "stdout",
     "output_type": "stream",
     "text": [
      "The autoreload extension is already loaded. To reload it, use:\n",
      "  %reload_ext autoreload\n"
     ]
    }
   ],
   "source": [
    "%load_ext autoreload\n",
    "%autoreload 2\n",
    "\n",
    "import bosonicplus\n",
    "import numpy as np\n",
    "from bosonicplus.interferometers.parameters import gen_interferometer_params\n",
    "from bosonicplus.interferometers.construct import build_interferometer\n",
    "from bosonicplus.measurements.photon_counting import post_select_fock_coherent, post_select_ppnrd_thermal\n",
    "\n",
    "from time import time\n"
   ]
  },
  {
   "cell_type": "code",
   "execution_count": 82,
   "id": "b812f638-1ff9-41c8-b0d3-efe11614163f",
   "metadata": {},
   "outputs": [
    {
     "name": "stdout",
     "output_type": "stream",
     "text": [
      "Sgate[-0.929,0.034] on mode 0\n",
      "Sgate[-0.907,0.744] on mode 1\n",
      "Sgate[-0.234,-0.178] on mode 2\n",
      "Sgate[-0.357,-0.241] on mode 3\n",
      "Sgate[-0.207,2.670] on mode 4\n",
      "Sgate[-0.224,-2.312] on mode 5\n",
      "BSgate[1.390,0.214] on modes 0 and 1\n",
      "BSgate[0.873,-1.145] on modes 2 and 3\n",
      "BSgate[0.965,-1.303] on modes 4 and 5\n",
      "BSgate[1.469,0.567] on modes 1 and 2\n",
      "BSgate[0.323,2.374] on modes 3 and 4\n",
      "BSgate[1.008,-2.892] on modes 0 and 1\n",
      "BSgate[0.448,2.841] on modes 2 and 3\n",
      "BSgate[1.316,3.137] on modes 4 and 5\n",
      "BSgate[0.885,-0.679] on modes 1 and 2\n",
      "BSgate[1.056,0.302] on modes 3 and 4\n",
      "BSgate[1.343,-2.438] on modes 0 and 1\n",
      "BSgate[0.163,0.142] on modes 2 and 3\n",
      "BSgate[1.114,-2.958] on modes 4 and 5\n",
      "BSgate[0.260,2.189] on modes 1 and 2\n",
      "BSgate[0.793,0.078] on modes 3 and 4\n"
     ]
    }
   ],
   "source": [
    "# Testing the Fock measurement \n",
    "nmodes = 6\n",
    "np.random.seed = 100\n",
    "params = gen_interferometer_params(nmodes, 12)\n",
    "circuit = build_interferometer(params, nmodes, True)"
   ]
  },
  {
   "cell_type": "code",
   "execution_count": 83,
   "id": "e7df02c0-c888-4d53-a4bb-9aae9f2e5986",
   "metadata": {},
   "outputs": [
    {
     "name": "stdout",
     "output_type": "stream",
     "text": [
      "means shape:  (1, 12)\n",
      "covs shape:  (1, 12, 12)\n",
      "weights shape:  (1,)\n",
      "Modes: [0, 1, 2, 3, 4, 5]\n",
      "Measuring 5 photons in mode 5\n",
      "means shape: (36, 10)\n",
      "covs shape: (1, 10, 10)\n",
      "weights shape: (36,)\n",
      "max weights: (0.9915372102839556+2.328805349296826e-20j)\n",
      "Probability: (0.0001564634030247808+0j)\n",
      "Modes: [0, 1, 2, 3, 4]\n",
      "Measuring 5 photons in mode 4\n",
      "means shape: (1296, 8)\n",
      "covs shape: (1, 8, 8)\n",
      "weights shape: (1296,)\n",
      "max weights: (1.8010237752652953+3.9267423749443464e-16j)\n",
      "Probability: (1.0259766369919832e-08-2.2364379686506077e-24j)\n",
      "Modes: [0, 1, 2, 3]\n",
      "Measuring 5 photons in mode 3\n",
      "means shape: (46656, 6)\n",
      "covs shape: (1, 6, 6)\n",
      "weights shape: (46656,)\n",
      "max weights: (2.458905517540747+2.1431391777536318e-16j)\n",
      "Probability: (6.141312102473814e-13-5.348333357652387e-29j)\n",
      "Modes: [0, 1, 2]\n",
      "Measuring 5 photons in mode 2\n",
      "means shape: (1679616, 4)\n",
      "covs shape: (1, 4, 4)\n",
      "weights shape: (1679616,)\n",
      "max weights: (0.9445980876206002+3.666651416599878e-16j)\n",
      "Probability: (3.2657694585990185e-14-1.2673686561491432e-29j)\n",
      "Modes: [0, 1]\n",
      "Measuring 5 photons in mode 1\n"
     ]
    },
    {
     "name": "stderr",
     "output_type": "stream",
     "text": [
      "/Users/s163967/venv/240827-bp/lib/python3.11/site-packages/numpy/linalg/linalg.py:2180: RuntimeWarning: divide by zero encountered in det\n",
      "/Users/s163967/venv/240827-bp/lib/python3.11/site-packages/numpy/linalg/linalg.py:2180: RuntimeWarning: invalid value encountered in det\n"
     ]
    },
    {
     "name": "stdout",
     "output_type": "stream",
     "text": [
      "means shape: (60466176, 2)\n",
      "covs shape: (1, 2, 2)\n",
      "weights shape: (60466176,)\n",
      "max weights: (0.8316329110451691+4.4935916800845964e-17j)\n",
      "Probability: (1.0544937263948152e-16-5.685400097469004e-33j)\n",
      "prob of [5, 5, 5, 5, 5] = (1.0544937263948152e-16-5.685400097469004e-33j)\n",
      "Total calc time:  7.308040380477905\n"
     ]
    }
   ],
   "source": [
    "t0 = time()\n",
    "print('means shape: ', circuit.means.shape)\n",
    "print('covs shape: ', circuit.covs.shape)\n",
    "print('weights shape: ', circuit.weights.shape)\n",
    "\n",
    "pnrd = [5,5,5,5,5]\n",
    "\n",
    "#Measure first mode with PNRD\n",
    "for i in np.arange(nmodes-1):\n",
    "    modes = circuit.get_modes()\n",
    "    print(f'Modes: {modes}')\n",
    "    print(f'Measuring {pnrd[i]} photons in mode {modes[-1]}')\n",
    "\n",
    "    post_select_fock_coherent(circuit, modes[-1], pnrd[i], 3)\n",
    "    \n",
    "    print(f'means shape: {circuit.means.shape}')\n",
    "    print(f'covs shape: {circuit.covs.shape}')\n",
    "    print(f'weights shape: {circuit.weights.shape}')\n",
    "    print(f'max weights: {np.max(circuit.weights)}')\n",
    "    print(f'Probability: {circuit.success}')\n",
    "\n",
    "\n",
    "tf = time()\n",
    "\n",
    "print(f'prob of {pnrd} = {circuit.success}')\n",
    "print('Total calc time: ', tf-t0)"
   ]
  },
  {
   "cell_type": "code",
   "execution_count": null,
   "id": "88d2b573-7a32-4341-a643-2ad0ddca9e7f",
   "metadata": {},
   "outputs": [],
   "source": []
  }
 ],
 "metadata": {
  "kernelspec": {
   "display_name": "240827-bp",
   "language": "python",
   "name": "240827-bp"
  },
  "language_info": {
   "codemirror_mode": {
    "name": "ipython",
    "version": 3
   },
   "file_extension": ".py",
   "mimetype": "text/x-python",
   "name": "python",
   "nbconvert_exporter": "python",
   "pygments_lexer": "ipython3",
   "version": "3.11.3"
  }
 },
 "nbformat": 4,
 "nbformat_minor": 5
}
